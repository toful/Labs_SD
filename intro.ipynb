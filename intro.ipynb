{
 "cells": [
  {
   "cell_type": "markdown",
   "metadata": {},
   "source": [
    "### Inheritance & Duck Typing"
   ]
  },
  {
   "cell_type": "code",
   "execution_count": 34,
   "metadata": {
    "collapsed": true
   },
   "outputs": [
    {
     "name": "stdout",
     "output_type": "stream",
     "text": [
      "I am an animal\n",
      "I am a dog\n",
      "I am a cat\n",
      "\n",
      "I am an animal\n",
      "I am a dog\n",
      "I am a cat\n",
      "I am a mutant\n"
     ]
    }
   ],
   "source": [
    "class Animal:\n",
    "    def talk(self):\n",
    "        print (\"I am an animal\")\n",
    "\n",
    "class Dog(Animal):\n",
    "    def talk(self):\n",
    "        print (\"I am a dog\")\n",
    "\n",
    "class Cat(Animal):\n",
    "    def talk(self):\n",
    "        print (\"I am a cat\")\n",
    "\n",
    "a= Animal()\n",
    "d = Dog()\n",
    "c = Cat()\n",
    "farm = [a,d,c]\n",
    "\n",
    "for animal in farm:\n",
    "    animal.talk()\n",
    "\n",
    "class Mutant:\n",
    "    def talk(self):\n",
    "        print (\"I am a mutant\")\n",
    "\n",
    "farm.append(Mutant())\n",
    "\n",
    "\n",
    "print (\"\")\n",
    "for animal in farm:\n",
    "    animal.talk()"
   ]
  },
  {
   "cell_type": "markdown",
   "metadata": {},
   "source": [
    "### More Inheritance"
   ]
  },
  {
   "cell_type": "code",
   "execution_count": 52,
   "metadata": {
    "collapsed": false
   },
   "outputs": [
    {
     "name": "stdout",
     "output_type": "stream",
     "text": [
      "I am a mouse\n"
     ]
    }
   ],
   "source": [
    "class Mouse(object):\n",
    "    def talk(self):\n",
    "        print (\"I am a mouse\")\n",
    "class Rat(Mouse):\n",
    "    def talk(self):\n",
    "        super(Rat,self).talk()\n",
    "r = Rat()\n",
    "r.talk()"
   ]
  },
  {
   "cell_type": "markdown",
   "metadata": {},
   "source": [
    "### More"
   ]
  },
  {
   "cell_type": "code",
   "execution_count": 2,
   "metadata": {
    "collapsed": false
   },
   "outputs": [
    {
     "name": "stdout",
     "output_type": "stream",
     "text": [
      "10\n"
     ]
    }
   ],
   "source": [
    "class A:\n",
    "    pass\n",
    "\n",
    "dir(A)\n",
    "\n",
    "a=A()\n",
    "a.propietat=10\n",
    "print (a.propietat)\n",
    "\n",
    "b=A()\n",
    "#ERROR: 'A' object has no attribute 'propietat'\n",
    "#print (b.propietat)"
   ]
  },
  {
   "cell_type": "code",
   "execution_count": 3,
   "metadata": {
    "collapsed": false
   },
   "outputs": [
    {
     "data": {
      "text/plain": [
       "10"
      ]
     },
     "execution_count": 3,
     "metadata": {},
     "output_type": "execute_result"
    }
   ],
   "source": [
    "class A:\n",
    "    def __init__(self):\n",
    "        self.propietat=self.foo()\n",
    "        \n",
    "class B(A):\n",
    "    def foo(self):\n",
    "        return 10\n",
    "\n",
    "b=B()\n",
    "b.propietat\n",
    "\n",
    "#ERROR: diu que A no té atribut foo\n",
    "#a=A()"
   ]
  },
  {
   "cell_type": "code",
   "execution_count": 7,
   "metadata": {
    "collapsed": false
   },
   "outputs": [],
   "source": [
    "class A:\n",
    "    #Aquests dos barra_baixa --> NAME_MANGLING\n",
    "    __a_ = 10\n",
    "\n",
    "class B(A):\n",
    "    __a_ = 11\n",
    "\n",
    "b=B()\n",
    "#Diu que l'objecte B no té l'atrubut __a_\n",
    "#b.__a_\n"
   ]
  },
  {
   "cell_type": "code",
   "execution_count": 27,
   "metadata": {
    "collapsed": false
   },
   "outputs": [
    {
     "name": "stdout",
     "output_type": "stream",
     "text": [
      "11\n",
      "['__class__', '__delattr__', '__dict__', '__dir__', '__doc__', '__eq__', '__format__', '__ge__', '__getattribute__', '__gt__', '__hash__', '__init__', '__le__', '__lt__', '__module__', '__ne__', '__new__', '__reduce__', '__reduce_ex__', '__repr__', '__setattr__', '__sizeof__', '__str__', '__subclasshook__', '__weakref__', 'a']\n",
      "25\n"
     ]
    }
   ],
   "source": [
    "class A:\n",
    "    a = 11\n",
    "\n",
    "class C:\n",
    "    a = 12\n",
    "    \n",
    "class B(A,C):\n",
    "    pass\n",
    "\n",
    "print (B.a)\n",
    "\n",
    "b = B()\n",
    "c = B()\n",
    "\n",
    "print (dir(b))\n",
    "\n",
    "B.d = 25\n",
    "\n",
    "print (b.d)"
   ]
  },
  {
   "cell_type": "code",
   "execution_count": 8,
   "metadata": {
    "collapsed": false
   },
   "outputs": [
    {
     "name": "stdout",
     "output_type": "stream",
     "text": [
      "I'm a foo\n"
     ]
    }
   ],
   "source": [
    "class A:\n",
    "    pass\n",
    "\n",
    "def foo():\n",
    "    print (\"I'm a foo\")\n",
    "\n",
    "A.foo=foo\n",
    "\n",
    "a=A()\n",
    "#a.foo() #ERROR, falta el self per referir-se a la instància\n",
    "\n",
    "#En aquest cas foo si que està associat a la instància, per tant el podem cridar\n",
    "a.foo=foo\n",
    "a.foo()\n"
   ]
  },
  {
   "cell_type": "code",
   "execution_count": 38,
   "metadata": {
    "collapsed": false
   },
   "outputs": [
    {
     "name": "stdout",
     "output_type": "stream",
     "text": [
      "I'm a foo\n"
     ]
    }
   ],
   "source": [
    "class A:\n",
    "    pass\n",
    "\n",
    "def foo(self):\n",
    "    print (\"I'm a foo\")\n",
    "\n",
    "A.foo=foo\n",
    "\n",
    "a=A()\n",
    "a.foo() #Al afegir el self a foo la classe converteix la funció en un mètode de classe (pots ficar qualsevol cosa)"
   ]
  },
  {
   "cell_type": "code",
   "execution_count": 45,
   "metadata": {
    "collapsed": false
   },
   "outputs": [
    {
     "name": "stdout",
     "output_type": "stream",
     "text": [
      "True\n",
      "False\n"
     ]
    }
   ],
   "source": [
    "class Number:\n",
    "    def __init__(self, num):\n",
    "        self.num=num\n",
    "\n",
    "x = Number(10)\n",
    "y = Number(11)\n",
    "\n",
    "#x<y #ERROR\n",
    "print (x.num < y.num)\n",
    "print (x.num > y.num)"
   ]
  },
  {
   "cell_type": "code",
   "execution_count": 50,
   "metadata": {
    "collapsed": false
   },
   "outputs": [
    {
     "name": "stdout",
     "output_type": "stream",
     "text": [
      "True\n",
      "False\n",
      "True\n",
      "False\n"
     ]
    }
   ],
   "source": [
    "class Number:\n",
    "    def __init__(self, num):\n",
    "        self.num=num\n",
    "    def __lt__(self, other):\n",
    "        return self.num < other.num\n",
    "\n",
    "x = Number(10)\n",
    "y = Number(11)\n",
    "\n",
    "print (x<y)\n",
    "print (x>y)\n",
    "print (x.num < y.num)\n",
    "print (x.num > y.num)"
   ]
  },
  {
   "cell_type": "code",
   "execution_count": 53,
   "metadata": {
    "collapsed": false
   },
   "outputs": [
    {
     "name": "stdout",
     "output_type": "stream",
     "text": [
      "Bye\n"
     ]
    }
   ],
   "source": [
    "#per comprovar si una llista eslà buida no hem de comparar amb res\n",
    "if[]:\n",
    "    print(\"Hello\")\n",
    "    \n",
    "if[10]:\n",
    "    print(\"Bye\")"
   ]
  },
  {
   "cell_type": "code",
   "execution_count": 54,
   "metadata": {
    "collapsed": false
   },
   "outputs": [
    {
     "data": {
      "text/plain": [
       "<bound method foo of <__main__.A object at 0x7fc12cf11b38>>"
      ]
     },
     "execution_count": 54,
     "metadata": {},
     "output_type": "execute_result"
    }
   ],
   "source": [
    "#Ens serveix per tractar com un atrubut un processament\n",
    "\n",
    "@property\n",
    "def foo(self):\n",
    "    return self._foo\n",
    "\n",
    "a.foo"
   ]
  }
 ],
 "metadata": {
  "kernelspec": {
   "display_name": "Python 3",
   "language": "python",
   "name": "python3"
  },
  "language_info": {
   "codemirror_mode": {
    "name": "ipython",
    "version": 3
   },
   "file_extension": ".py",
   "mimetype": "text/x-python",
   "name": "python",
   "nbconvert_exporter": "python",
   "pygments_lexer": "ipython3",
   "version": "3.5.3"
  }
 },
 "nbformat": 4,
 "nbformat_minor": 2
}
